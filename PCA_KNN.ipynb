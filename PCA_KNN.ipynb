{
 "cells": [
  {
   "cell_type": "code",
   "execution_count": null,
   "metadata": {
    "collapsed": true
   },
   "outputs": [],
   "source": [
    "import tensorflow as tf\n",
    "import numpy as np\n",
    "from keras.models import Sequential\n",
    "import cv2\n",
    "import skimage\n",
    "import os\n",
    "from imgaug.imgaug import augmenters as iaa\n",
    "from densenet121 import DenseNet\n",
    "\n",
    "from sklearn import decomposition\n",
    "from sklearn.neighbors import KNeighborsClassifier\n",
    "from sklearn.decomposition import PCA"
   ]
  },
  {
   "cell_type": "code",
   "execution_count": null,
   "metadata": {
    "collapsed": true
   },
   "outputs": [],
   "source": [
    "seq = iaa.Sequential([\n",
    "    iaa.Crop(px=(0, 16)), # crop images from each side by 0 to 16px (randomly chosen)\n",
    "    iaa.Fliplr(0.5), # horizontally flip 50% of the images\n",
    "    iaa.GaussianBlur(sigma=(0, 3.0)), # blur images with a sigma of 0 to 3.0\n",
    "    iaa.CropAndPad(percent=(-0.25, 0.25)),\n",
    "    iaa.Add((-30, 30)),\n",
    "    iaa.Fliplr(0.5),\n",
    "    iaa.Flipud(0.5),\n",
    "    iaa.Superpixels(p_replace=0.5, n_segments=64),\n",
    "    iaa.Dropout(p=(0, 0.2)),\n",
    "    iaa.Affine(rotate=(-45, 45))\n",
    "])\n"
   ]
  },
  {
   "cell_type": "code",
   "execution_count": null,
   "metadata": {
    "collapsed": true
   },
   "outputs": [],
   "source": [
    "class image_util:\n",
    "    def __init__(self, data_dir, biz_label_file_name, photo_biz_file_name):\n",
    "        self.batch_index = 0\n",
    "        image_paths = [os.path.join(data_dir,i) for i in os.listdir(data_dir) if i.endswith('.jpg') and not i.startswith(\"._\")]\n",
    "        self.images = []\n",
    "        self.labels = []\n",
    "        one_hot = self.read_csv_one_hot(biz_label_file_name)\n",
    "        photo_biz = self.photo_to_biz_id(photo_biz_file_name)\n",
    "\n",
    "        for path in image_paths[:100]:\n",
    "            img = cv2.imread(path)\n",
    "            if img == None:\n",
    "                continue\n",
    "            photo_id = os.path.basename(path).split(\".\")[0]\n",
    "            self.labels.append(one_hot[photo_biz[photo_id]])\n",
    "            img = cv2.resize(img,(299,299),interpolation = cv2.INTER_AREA)\n",
    "            self.images.append(img)\n",
    "        self.labels = np.asarray(self.labels)\n",
    "        self.images = np.asarray(self.images)\n",
    "        print(self.labels.shape)\n",
    "        \n",
    "    def next_batch(self, batch_size):\n",
    "        if batch_size + self.batch_index < self.images.shape[0]:\n",
    "            imgs = self.images[self.batch_index:batch_size + self.batch_index,:,:,:]\n",
    "            labels = self.labels[self.batch_index:batch_size + self.batch_index,:,:,:]\n",
    "            return imgs, labels\n",
    "        else:\n",
    "            end_len = self.images.shape[0]-self.batch_index\n",
    "            start_len = batch_size - (self.images.shape[0] - end_len)\n",
    "            imgs = np.concatenate((self.images[-end_len:,:,:,:],self.images[0:start_len,:,:,:]))\n",
    "            labels = np.concatenate((self.labels[-end_len:,:,:,:],self.labels[0:start_len,:,:,:]))\n",
    "            return imgs, labels\n",
    "        \n",
    "    def read_csv_one_hot(self, file_name):\n",
    "        with open(file_name,\"r\") as f:\n",
    "            lines = f.readlines()[1:]\n",
    "        biz_id_to_label = {}\n",
    "        for line in lines:\n",
    "            try:\n",
    "                biz_id_to_label[line.split(\",\")[0]] = np.zeros(9)\n",
    "                for label in line.split(\",\")[1].rstrip().split(' '):\n",
    "                    biz_id_to_label[line.split(\",\")[0]][int(label)]=1\n",
    "            except:\n",
    "                if not line.split(\",\")[1].rstrip():\n",
    "                    continue\n",
    "        return biz_id_to_label\n",
    "    \n",
    "    def photo_to_biz_id(self, file_name):\n",
    "        with open(file_name,\"r\") as f:\n",
    "            lines = f.readlines()[1:]\n",
    "        photo_to_biz = {}\n",
    "        for line in lines:\n",
    "            photo_to_biz[line.split(\",\")[0]] = line.split(\",\")[1].rstrip() \n",
    "        return photo_to_biz\n",
    "        \n"
   ]
  },
  {
   "cell_type": "code",
   "execution_count": null,
   "metadata": {
    "collapsed": false
   },
   "outputs": [],
   "source": [
    "utils = image_util('./train_photos', './train.csv', './train_photo_to_biz_ids.csv')"
   ]
  },
  {
   "cell_type": "code",
   "execution_count": null,
   "metadata": {
    "collapsed": true
   },
   "outputs": [],
   "source": [
    "images_input = []\n",
    "for im in utils.images:\n",
    "    im = cv2.resize(im, (224, 224)).astype(np.float32)\n",
    "    im[:,:,0] = (im[:,:,0] - 103.94) * 0.017\n",
    "    im[:,:,1] = (im[:,:,1] - 116.78) * 0.017\n",
    "    im[:,:,2] = (im[:,:,2] - 123.68) * 0.017\n",
    "#     im = np.expand_dims(im, axis=0)\n",
    "    images_input.append(im)\n",
    "images_input = np.asarray(images_input)\n",
    "\n",
    "# im = np.expand_dims(im, axis=0)\n",
    "# images_input= np.expand_dims(im,0)\n",
    "for i in range(0):\n",
    "    images = im\n",
    "    images = np.expand_dims(images,0)\n",
    "    images_aug = seq.augment_images(images)\n",
    "    images_input = np.concatenate((images_input,images_aug),axis=0)"
   ]
  },
  {
   "cell_type": "code",
   "execution_count": null,
   "metadata": {
    "collapsed": false
   },
   "outputs": [],
   "source": [
    "images_input.shape"
   ]
  },
  {
   "cell_type": "code",
   "execution_count": null,
   "metadata": {
    "collapsed": true
   },
   "outputs": [],
   "source": []
  },
  {
   "cell_type": "code",
   "execution_count": null,
   "metadata": {
    "collapsed": false
   },
   "outputs": [],
   "source": [
    "model = DenseNet(reduction=0.5, classes=1000, weights_path='./densenet121_weights_tf.h5')\n",
    "print(model.layers[-1].output_shape)\n",
    "model.layers.pop()\n",
    "model.layers.pop()\n",
    "print(model.layers[-1].output_shape)"
   ]
  },
  {
   "cell_type": "code",
   "execution_count": null,
   "metadata": {
    "collapsed": false
   },
   "outputs": [],
   "source": [
    "pred = model.predict(images_input)\n",
    "pca = PCA(n_components=10)\n",
    "low_dim = pca.fit_transform(pred)\n",
    "print(low_dim.shape)\n",
    "neigh = KNeighborsClassifier(n_neighbors=7)\n",
    "labels = np.random.randint(10,high=1000,size=(101,1))\n",
    "print(labels)\n",
    "neigh.fit(low_dim,labels)\n",
    "neigh.predict(pca.transform(model.predict(np.expand_dims(im,0))))"
   ]
  },
  {
   "cell_type": "code",
   "execution_count": null,
   "metadata": {
    "collapsed": false
   },
   "outputs": [],
   "source": [
    "pca = PCA(n_components=10)\n",
    "low_dim = pca.fit_transform(pred)\n",
    "print(low_dim.shape)\n",
    "neigh = KNeighborsClassifier(n_neighbors=7)\n",
    "neigh.fit(low_dim,utils.labels)\n",
    "knn_pred = neigh.predict(pca.transform(model.predict(images_input[:10])))"
   ]
  },
  {
   "cell_type": "code",
   "execution_count": null,
   "metadata": {
    "collapsed": true
   },
   "outputs": [],
   "source": [
    "knn_pred = neigh.predict(pca.transform(model.predict(images_input[:10])))"
   ]
  },
  {
   "cell_type": "code",
   "execution_count": null,
   "metadata": {
    "collapsed": false
   },
   "outputs": [],
   "source": [
    "utils.labels[:10]"
   ]
  },
  {
   "cell_type": "code",
   "execution_count": null,
   "metadata": {
    "collapsed": false
   },
   "outputs": [],
   "source": [
    "np.linalg.norm(knn_pred-utils.labels[:10])"
   ]
  },
  {
   "cell_type": "code",
   "execution_count": null,
   "metadata": {
    "collapsed": false
   },
   "outputs": [],
   "source": [
    "X = pred\n",
    "pca = decomposition.PCA(n_components=9)\n",
    "pca.fit(X)\n",
    "print(X.shape)\n",
    "X = pca.transform(X)\n",
    "print(X.shape)"
   ]
  }
 ],
 "metadata": {
  "kernelspec": {
   "display_name": "Python 2",
   "language": "python",
   "name": "python2"
  },
  "language_info": {
   "codemirror_mode": {
    "name": "ipython",
    "version": 2
   },
   "file_extension": ".py",
   "mimetype": "text/x-python",
   "name": "python",
   "nbconvert_exporter": "python",
   "pygments_lexer": "ipython2",
   "version": "2.7.12"
  }
 },
 "nbformat": 4,
 "nbformat_minor": 1
}
