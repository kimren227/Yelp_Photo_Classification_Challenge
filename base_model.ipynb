{
 "cells": [
  {
   "cell_type": "code",
   "execution_count": null,
   "metadata": {
    "collapsed": false
   },
   "outputs": [],
   "source": [
    "import tensorflow as tf\n",
    "import numpy as np\n",
    "from keras.models import Sequential\n",
    "import cv2\n",
    "import skimage\n",
    "import os\n",
    "from imgaug.imgaug import augmenters as iaa\n",
    "from densenet121 import DenseNet\n",
    "from sklearn import decomposition\n",
    "from sklearn.neighbors import KNeighborsClassifier\n",
    "from keras.layers import Dense\n",
    "from keras.models import Model\n",
    "from keras.optimizers import SGD"
   ]
  },
  {
   "cell_type": "code",
   "execution_count": null,
   "metadata": {
    "collapsed": true
   },
   "outputs": [],
   "source": [
    "#wanlu \n",
    "seq = iaa.Sequential([\n",
    "    iaa.Crop(px=(0, 16)), # crop images from each side by 0 to 16px (randomly chosen)\n",
    "    iaa.Fliplr(0.5), # horizontally flip 50% of the images\n",
    "    iaa.GaussianBlur(sigma=(0, 3.0)), # blur images with a sigma of 0 to 3.0\n",
    "    iaa.CropAndPad(percent=(-0.25, 0.25)),\n",
    "    iaa.Add((-30, 30)),\n",
    "    iaa.Fliplr(0.5),\n",
    "    iaa.Flipud(0.5),\n",
    "    iaa.Superpixels(p_replace=0.5, n_segments=64),\n",
    "    iaa.Dropout(p=(0, 0.2)),\n",
    "    iaa.Affine(rotate=(-45, 45))\n",
    "])\n"
   ]
  },
  {
   "cell_type": "code",
   "execution_count": null,
   "metadata": {
    "collapsed": true
   },
   "outputs": [],
   "source": [
    "class image_util:\n",
    "    def __init__(self, data_dir, biz_label_file_name, photo_biz_file_name):\n",
    "        self.batch_index = 0\n",
    "        image_paths = [os.path.join(data_dir,i) for i in os.listdir(data_dir) if i.endswith('.jpg') and not i.startswith(\"._\")]\n",
    "        self.images = []\n",
    "        self.labels = []\n",
    "        one_hot = self.read_csv_one_hot(biz_label_file_name)\n",
    "        photo_biz = self.photo_to_biz_id(photo_biz_file_name)\n",
    "\n",
    "        for path in image_paths[:10]:\n",
    "            img = cv2.imread(path)\n",
    "            if img == None:\n",
    "                continue\n",
    "            photo_id = os.path.basename(path).split(\".\")[0]\n",
    "            self.labels.append(one_hot[photo_biz[photo_id]])\n",
    "            img = cv2.resize(img,(299,299),interpolation = cv2.INTER_AREA)\n",
    "            self.images.append(img)\n",
    "        self.labels = np.asarray(self.labels)\n",
    "        self.images = np.asarray(self.images)\n",
    "        print(self.labels.shape)\n",
    "        \n",
    "    def read_csv_one_hot(self, file_name):\n",
    "        with open(file_name,\"r\") as f:\n",
    "            lines = f.readlines()[1:]\n",
    "        biz_id_to_label = {}\n",
    "        for line in lines:\n",
    "            try:\n",
    "                biz_id_to_label[line.split(\",\")[0]] = np.zeros(9)\n",
    "                for label in line.split(\",\")[1].rstrip().split(' '):\n",
    "                    biz_id_to_label[line.split(\",\")[0]][int(label)]=1\n",
    "            except:\n",
    "                if not line.split(\",\")[1].rstrip():\n",
    "                    continue\n",
    "        return biz_id_to_label\n",
    "    \n",
    "    def photo_to_biz_id(self, file_name):\n",
    "        with open(file_name,\"r\") as f:\n",
    "            lines = f.readlines()[1:]\n",
    "        photo_to_biz = {}\n",
    "        for line in lines:\n",
    "            photo_to_biz[line.split(\",\")[0]] = line.split(\",\")[1].rstrip() \n",
    "        return photo_to_biz\n",
    "        \n"
   ]
  },
  {
   "cell_type": "code",
   "execution_count": null,
   "metadata": {
    "collapsed": false
   },
   "outputs": [],
   "source": [
    "util = image_util('/home/rendaxuan/Documents/workspace/4032/train_photos', '/home/rendaxuan/Documents/workspace/4032/train.csv', '/home/rendaxuan/Documents/workspace/4032/train_photo_to_biz_ids.csv')"
   ]
  },
  {
   "cell_type": "code",
   "execution_count": null,
   "metadata": {
    "collapsed": false
   },
   "outputs": [],
   "source": [
    "ims = util.images\n",
    "# do image augmentation\n",
    "for idx in range(10):\n",
    "    # 'images' should be either a 4D numpy array of shape (N, height, width, channels)\n",
    "    # or a list of 3D numpy arrays, each having shape (height, width, channels).\n",
    "    # Grayscale images must have shape (height, width, 1) each.\n",
    "    # All images must have numpy's dtype uint8. Values are expected to be in\n",
    "    # range 0-255.\n",
    "    images_aug = seq.augment_images(util.images)\n",
    "    ims = np.concatenate((ims, images_aug), axis=0)"
   ]
  },
  {
   "cell_type": "code",
   "execution_count": null,
   "metadata": {
    "collapsed": false
   },
   "outputs": [],
   "source": [
    "images_input = []\n",
    "# normalization\n",
    "for im in ims:\n",
    "    im = cv2.resize(im, (224,224)).astype(np.float32)\n",
    "    im[:,:,0] = (im[:,:,0] - 103.94) * 0.017\n",
    "    im[:,:,1] = (im[:,:,1] - 116.78) * 0.017\n",
    "    im[:,:,2] = (im[:,:,2] - 123.68) * 0.017\n",
    "    images_input.append(im)\n",
    "images_input = np.asarray(images_input)"
   ]
  },
  {
   "cell_type": "code",
   "execution_count": null,
   "metadata": {
    "collapsed": false
   },
   "outputs": [],
   "source": [
    "model = DenseNet(reduction=0.5, classes=1000, weights_path='./densenet121_weights_tf.h5')\n",
    "print(model.layers[-1].output_shape)\n",
    "model.layers.pop()\n",
    "model.layers.pop()\n",
    "print(model.layers[-1].output_shape)\n",
    "output = model.layers[-1].output"
   ]
  },
  {
   "cell_type": "code",
   "execution_count": null,
   "metadata": {
    "collapsed": false
   },
   "outputs": [],
   "source": [
    "output = Dense(9, activation='softmax', name='final')(output)\n",
    "new_model = Model(model.input, output)\n",
    "sgd = SGD(lr=1e-2, decay=1e-6, momentum=0.9, nesterov=True)\n",
    "new_model.compile(optimizer=sgd, loss='categorical_crossentropy', metrics=['accuracy'])"
   ]
  },
  {
   "cell_type": "code",
   "execution_count": null,
   "metadata": {
    "collapsed": false
   },
   "outputs": [],
   "source": [
    "loss, acc = new_model.evaluate(images_input, np.repeat(util.labels, util.labels.shape[0]+1, axis=0))"
   ]
  },
  {
   "cell_type": "code",
   "execution_count": null,
   "metadata": {
    "collapsed": false
   },
   "outputs": [],
   "source": [
    "loss"
   ]
  },
  {
   "cell_type": "code",
   "execution_count": null,
   "metadata": {
    "collapsed": true
   },
   "outputs": [],
   "source": []
  }
 ],
 "metadata": {
  "kernelspec": {
   "display_name": "Python 2",
   "language": "python",
   "name": "python2"
  },
  "language_info": {
   "codemirror_mode": {
    "name": "ipython",
    "version": 2
   },
   "file_extension": ".py",
   "mimetype": "text/x-python",
   "name": "python",
   "nbconvert_exporter": "python",
   "pygments_lexer": "ipython2",
   "version": "2.7.12"
  }
 },
 "nbformat": 4,
 "nbformat_minor": 1
}
