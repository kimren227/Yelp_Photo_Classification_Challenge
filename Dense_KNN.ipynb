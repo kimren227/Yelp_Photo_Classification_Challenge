{
 "cells": [
  {
   "cell_type": "code",
   "execution_count": null,
   "metadata": {
    "collapsed": false
   },
   "outputs": [],
   "source": [
    "import tensorflow as tf\n",
    "import numpy as np\n",
    "from keras.models import Sequential\n",
    "import cv2\n",
    "import skimage\n",
    "import random\n",
    "import os\n",
    "from imgaug.imgaug import augmenters as iaa\n",
    "from densenet121 import DenseNet\n",
    "from sklearn import decomposition\n",
    "from sklearn.neighbors import KNeighborsClassifier\n",
    "from keras.layers import Dense\n",
    "from keras.models import Model\n",
    "from keras.optimizers import SGD"
   ]
  },
  {
   "cell_type": "code",
   "execution_count": null,
   "metadata": {
    "collapsed": true
   },
   "outputs": [],
   "source": [
    "class image_util:\n",
    "    def __init__(self, data_dir, biz_label_file_name, photo_biz_file_name):\n",
    "        self.batch_index = 0\n",
    "        self.image_paths = [os.path.join(data_dir,i) for i in os.listdir(data_dir) if i.endswith('.jpg') and not i.startswith(\"._\")]\n",
    "        random.shuffle(self.image_paths)\n",
    "        self.images = []\n",
    "        self.labels = []\n",
    "        self.image_len = len(self.image_paths)\n",
    "        self.one_hot = self.read_csv_one_hot(biz_label_file_name)\n",
    "        self.photo_biz = self.photo_to_biz_id(photo_biz_file_name)\n",
    "\n",
    "    def next_batch(self, batch_size):\n",
    "        images = []\n",
    "        labels = []\n",
    "        if batch_size + self.batch_index * batch_size < self.image_len:\n",
    "            start = self.batch_index\n",
    "            end = batch_size + self.batch_index\n",
    "            for path in self.image_paths[start:end]:\n",
    "                img = cv2.imread(path)\n",
    "                photo_id = os.path.basename(path).split(\".\")[0]\n",
    "                self.labels.append(self.one_hot[self.photo_biz[photo_id]])\n",
    "                img = cv2.resize(img,(224,224),interpolation = cv2.INTER_AREA)\n",
    "                images.append(img)\n",
    "                labels.append(self.one_hot[self.photo_biz[photo_id]])\n",
    "            images = np.asarray(images)\n",
    "            labels = np.asarray(labels)\n",
    "            self.batch_index += 1\n",
    "            return images, labels, 1\n",
    "        else:\n",
    "            self.batch_index = 0\n",
    "            start = self.batch_index\n",
    "            end = batch_size + self.batch_index\n",
    "            for path in self.image_paths[start:end]:\n",
    "                img = cv2.imread(path)\n",
    "                photo_id = os.path.basename(path).split(\".\")[0]\n",
    "                self.labels.append(self.one_hot[self.photo_biz[photo_id]])\n",
    "                img = cv2.resize(img,(224,224),interpolation = cv2.INTER_AREA)\n",
    "                images.append(img)\n",
    "                labels.append(self.one_hot[self.photo_biz[photo_id]])\n",
    "            images = np.asarray(images)\n",
    "            labels = np.asarray(labels)\n",
    "            return images, labels, 0\n",
    "    \n",
    "    def read_csv_one_hot(self, file_name):\n",
    "        with open(file_name,\"r\") as f:\n",
    "            lines = f.readlines()[1:]\n",
    "        biz_id_to_label = {}\n",
    "        for line in lines:\n",
    "            try:\n",
    "                biz_id_to_label[line.split(\",\")[0]] = np.zeros(9)\n",
    "                for label in line.split(\",\")[1].rstrip().split(' '):\n",
    "                    biz_id_to_label[line.split(\",\")[0]][int(label)]=1\n",
    "            except:\n",
    "                if not line.split(\",\")[1].rstrip():\n",
    "                    continue\n",
    "        return biz_id_to_label\n",
    "    \n",
    "    def photo_to_biz_id(self, file_name):\n",
    "        with open(file_name,\"r\") as f:\n",
    "            lines = f.readlines()[1:]\n",
    "        photo_to_biz = {}\n",
    "        for line in lines:\n",
    "            photo_to_biz[line.split(\",\")[0]] = line.split(\",\")[1].rstrip() \n",
    "        return photo_to_biz\n",
    "        "
   ]
  },
  {
   "cell_type": "code",
   "execution_count": null,
   "metadata": {
    "collapsed": false
   },
   "outputs": [],
   "source": [
    "util = image_util('/home/rendaxuan/Documents/workspace/4032/test_photos', '/home/rendaxuan/Documents/workspace/4032/test.csv', '/home/rendaxuan/Documents/workspace/4032/test_photo_to_biz_ids.csv')"
   ]
  },
  {
   "cell_type": "code",
   "execution_count": null,
   "metadata": {
    "collapsed": false
   },
   "outputs": [],
   "source": [
    "model = DenseNet(reduction=0.5, classes=1000, weights_path='./densenet121_weights_tf.h5')\n",
    "print(model.layers[-1].output_shape)\n",
    "model.layers.pop()\n",
    "model.layers.pop()\n",
    "print(model.layers[-1].output_shape)\n",
    "output = model.layers[-1].output\n",
    "new_model = Model(model.input, output)\n",
    "sgd = SGD(lr=1e-2, decay=1e-6, momentum=0.9, nesterov=True)\n",
    "new_model.compile(optimizer=sgd, loss='binary_crossentropy', metrics=['accuracy'])"
   ]
  },
  {
   "cell_type": "code",
   "execution_count": null,
   "metadata": {
    "collapsed": false
   },
   "outputs": [],
   "source": [
    "batch_size = 1000\n",
    "images_features = []\n",
    "images_labels = []\n",
    "images, labels, go_on = util.next_batch(batch_size)\n",
    "counter = 0\n",
    "import time\n",
    "start = time.time()\n",
    "while go_on:\n",
    "    images_features.append(new_model.predict(images))\n",
    "    images_labels.append(labels)\n",
    "    images, labels, go_on = util.next_batch(batch_size)\n",
    "    print(\"==================================================\")\n",
    "    print(str(counter*1000/238400*100)+\"%   \"+str(time.time()-start))\n",
    "    start = time.time()\n",
    "    counter += 1\n",
    "features = np.vstack(images_features)\n",
    "features_labels = np.vstack(images_labels)"
   ]
  },
  {
   "cell_type": "code",
   "execution_count": null,
   "metadata": {
    "collapsed": false
   },
   "outputs": [],
   "source": [
    "features_labels.shape"
   ]
  },
  {
   "cell_type": "code",
   "execution_count": null,
   "metadata": {
    "collapsed": false
   },
   "outputs": [],
   "source": [
    "np.save('/home/rendaxuan/Documents/workspace/4032/features_test.npy', features)"
   ]
  },
  {
   "cell_type": "code",
   "execution_count": null,
   "metadata": {
    "collapsed": false
   },
   "outputs": [],
   "source": [
    "np.save('/home/rendaxuan/Documents/workspace/4032/features_labels_test.npy', features_labels)"
   ]
  },
  {
   "cell_type": "code",
   "execution_count": null,
   "metadata": {
    "collapsed": false
   },
   "outputs": [],
   "source": []
  },
  {
   "cell_type": "code",
   "execution_count": null,
   "metadata": {
    "collapsed": false
   },
   "outputs": [],
   "source": []
  },
  {
   "cell_type": "code",
   "execution_count": null,
   "metadata": {
    "collapsed": true
   },
   "outputs": [],
   "source": []
  }
 ],
 "metadata": {
  "kernelspec": {
   "display_name": "Python 2",
   "language": "python",
   "name": "python2"
  },
  "language_info": {
   "codemirror_mode": {
    "name": "ipython",
    "version": 2
   },
   "file_extension": ".py",
   "mimetype": "text/x-python",
   "name": "python",
   "nbconvert_exporter": "python",
   "pygments_lexer": "ipython2",
   "version": "2.7.12"
  }
 },
 "nbformat": 4,
 "nbformat_minor": 1
}
