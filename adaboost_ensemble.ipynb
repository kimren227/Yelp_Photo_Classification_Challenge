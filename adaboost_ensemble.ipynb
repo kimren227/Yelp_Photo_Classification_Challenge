{
 "cells": [
  {
   "cell_type": "code",
   "execution_count": null,
   "metadata": {
    "collapsed": true
   },
   "outputs": [],
   "source": [
    "import tensorflow as tf\n",
    "import numpy as np\n",
    "from keras.models import Sequential\n",
    "import cv2\n",
    "import skimage\n",
    "import os\n",
    "from imgaug.imgaug import augmenters as iaa\n",
    "from densenet121 import DenseNet\n",
    "from sklearn import decomposition\n",
    "from sklearn.neighbors import KNeighborsClassifier\n",
    "from sklearn.model_selection import train_test_split\n",
    "from keras.layers import Dense\n",
    "from keras.models import Model\n",
    "from keras.optimizers import SGD"
   ]
  },
  {
   "cell_type": "code",
   "execution_count": null,
   "metadata": {
    "collapsed": true
   },
   "outputs": [],
   "source": [
    " seq = iaa.Sequential([\n",
    "    iaa.Crop(px=(0, 16)), # crop images from each side by 0 to 16px (randomly chosen)\n",
    "    iaa.Fliplr(0.5), # horizontally flip 50% of the images\n",
    "    iaa.GaussianBlur(sigma=(0, 3.0)), # blur images with a sigma of 0 to 3.0\n",
    "    iaa.CropAndPad(percent=(-0.25, 0.25)),\n",
    "    iaa.Add((-30, 30)),\n",
    "    iaa.Fliplr(0.5),\n",
    "    iaa.Flipud(0.5),\n",
    "    iaa.Superpixels(p_replace=0.5, n_segments=64),\n",
    "    iaa.Dropout(p=(0, 0.2)),\n",
    "    iaa.Affine(rotate=(-45, 45))\n",
    "])\n",
    "\n"
   ]
  },
  {
   "cell_type": "code",
   "execution_count": null,
   "metadata": {
    "collapsed": true
   },
   "outputs": [],
   "source": [
    "class image_util:\n",
    "    def __init__ (self, data_dir, biz_label_file_name, photo_biz_file_name):\n",
    "        image_paths = [os.path.join(data_dir,i) for i in os.listdir(data_dir) if i.endswith('.jpg') and not i.startswith(\"._\")]\n",
    "        one_hot = self.read_csv_one_hot(biz_label_file_name)\n",
    "        photo_biz = self.photo_to_biz_id(photo_biz_file_name)\n",
    "        \n",
    "        label_photos = {}\n",
    "        for path in image_paths:\n",
    "            img = cv2.imread(path)\n",
    "            if img is None:\n",
    "                continue\n",
    "            photo_id = os.path.basename(path).split(\".\")[0]\n",
    "            img = cv2.resize(img,(299,299),interpolation = cv2.INTER_AREA)\n",
    "            label = one_hot[photo_biz[photo_id]]\n",
    "            label = tuple(label)\n",
    "            if label in label_photos:\n",
    "                label_photos[label].append(img)\n",
    "            else:\n",
    "                label_photos[label] = [img]\n",
    "            if len(label_photos) == 100:\n",
    "                break\n",
    "        self.labels = np.asarray(label_photos.keys())\n",
    "        self.images = np.asarray(label_photos.values())\n",
    "        print(self.labels.shape)\n",
    "        \n",
    "    def read_csv_one_hot(self, file_name):\n",
    "        with open(file_name,\"r\") as f:\n",
    "            lines = f.readlines()[1:]\n",
    "        biz_id_to_label = {}\n",
    "        for line in lines:\n",
    "            try:\n",
    "                biz_id_to_label[line.split(\",\")[0]] = np.zeros(9)\n",
    "                for label in line.split(\",\")[1].rstrip().split(' '):\n",
    "                    biz_id_to_label[line.split(\",\")[0]][int(label)]=1\n",
    "            except:\n",
    "                if not line.split(\",\")[1].rstrip():\n",
    "                    continue\n",
    "        return biz_id_to_label\n",
    "    \n",
    "    def photo_to_biz_id(self, file_name):\n",
    "        with open(file_name,\"r\") as f:\n",
    "            lines = f.readlines()[1:]\n",
    "        photo_to_biz = {}\n",
    "        for line in lines:\n",
    "            photo_to_biz[line.split(\",\")[0]] = line.split(\",\")[1].rstrip() \n",
    "        return photo_to_biz\n",
    "    "
   ]
  },
  {
   "cell_type": "code",
   "execution_count": null,
   "metadata": {
    "collapsed": false
   },
   "outputs": [],
   "source": [
    "inputs = image_util('./train_photos', './train.csv', './train_photo_to_biz_ids.csv')"
   ]
  },
  {
   "cell_type": "code",
   "execution_count": null,
   "metadata": {
    "collapsed": true
   },
   "outputs": [],
   "source": [
    "processed_img_list = []\n",
    "for images in inputs.images:\n",
    "    processed_imgs = []\n",
    "    for im in images:\n",
    "        im = cv2.resize(im, (224, 224)).astype(np.float32)\n",
    "        im[:,:,0] = (im[:,:,0] - 103.94) * 0.017\n",
    "        im[:,:,1] = (im[:,:,1] - 116.78) * 0.017\n",
    "        im[:,:,2] = (im[:,:,2] - 123.68) * 0.017\n",
    "        processed_imgs.append(im)\n",
    "    processed_img_list.append(np.asarray(processed_imgs))\n",
    "    \n",
    "processed_img_list = np.asarray(processed_img_list)\n",
    "\n",
    "# ignore augmentation first\n",
    "for i in range(0):\n",
    "    images = im\n",
    "    images = np.expand_dims(images,0)\n",
    "    images_aug = seq.augment_images(images)\n",
    "    images_input = np.concatenate((images_input,images_aug),axis=0)"
   ]
  },
  {
   "cell_type": "code",
   "execution_count": null,
   "metadata": {
    "collapsed": false
   },
   "outputs": [],
   "source": [
    "model, feature_list = DenseNet(reduction=0.5, classes=1000, weights_path='./densenet121_weights_tf.h5')\n",
    "print(model.layers[-1].output_shape)\n",
    "model.layers.pop()\n",
    "model.layers.pop()\n",
    "print(model.layers[-1].output_shape)"
   ]
  },
  {
   "cell_type": "code",
   "execution_count": null,
   "metadata": {
    "collapsed": true
   },
   "outputs": [],
   "source": [
    "output = model.layers[-1].output\n",
    "model = Model(model.input, output)\n",
    "# output = Dense(9, activation='softmax', name='final')(output)\n",
    "# new_model = Model(model.input, output)\n",
    "sgd = SGD(lr=1e-2, decay=1e-6, momentum=0.9, nesterov=True)\n",
    "model.compile(optimizer=sgd, loss='categorical_crossentropy', metrics=['accuracy'])"
   ]
  },
  {
   "cell_type": "code",
   "execution_count": null,
   "metadata": {
    "collapsed": false
   },
   "outputs": [],
   "source": [
    "model.layers[-1].output_shape"
   ]
  },
  {
   "cell_type": "code",
   "execution_count": null,
   "metadata": {
    "collapsed": true
   },
   "outputs": [],
   "source": [
    "# business features\n",
    "biz_features_mean = []\n",
    "for i, img_list in enumerate(processed_img_list):\n",
    "    pred = model.predict(img_list)\n",
    "    biz_features_mean.append(np.mean(pred, axis=0))\n",
    "biz_features_mean = np.asarray(biz_features_mean)"
   ]
  },
  {
   "cell_type": "code",
   "execution_count": null,
   "metadata": {
    "collapsed": true
   },
   "outputs": [],
   "source": [
    "biz_features_max = []\n",
    "for i, img_list in enumerate(processed_img_list):\n",
    "    pred = model.predict(img_list)\n",
    "    biz_features_max.append(np.max(pred, axis=0))\n",
    "biz_features_max = np.asarray(biz_features_max)"
   ]
  },
  {
   "cell_type": "code",
   "execution_count": null,
   "metadata": {
    "collapsed": true
   },
   "outputs": [],
   "source": [
    "X_train, X_test, y_train, y_test = train_test_split(biz_features_max, inputs.labels, test_size=0.2, random_state=42)"
   ]
  },
  {
   "cell_type": "code",
   "execution_count": null,
   "metadata": {
    "collapsed": false
   },
   "outputs": [],
   "source": [
    "X_train.shape"
   ]
  },
  {
   "cell_type": "code",
   "execution_count": null,
   "metadata": {
    "collapsed": true
   },
   "outputs": [],
   "source": [
    "from sklearn.ensemble import AdaBoostClassifier\n",
    "from sklearn.model_selection import cross_val_score\n"
   ]
  },
  {
   "cell_type": "code",
   "execution_count": null,
   "metadata": {
    "collapsed": false,
    "scrolled": true
   },
   "outputs": [],
   "source": [
    "# max - biz feature extraction\n",
    "# 3-fold cross validation\n",
    "max_score = []\n",
    "test_score = []\n",
    "for i in range(9):\n",
    "    ABC = AdaBoostClassifier()\n",
    "    ABC.fit(X_train, y_train[:, i])\n",
    "    max_score.append(cross_val_score(ABC, X_train, y_train[:, i]).mean())\n",
    "    test_score.append(ABC.score(X_test, y_test[:, i]))\n",
    "print max_score\n",
    "print(test_score)"
   ]
  },
  {
   "cell_type": "code",
   "execution_count": null,
   "metadata": {
    "collapsed": false
   },
   "outputs": [],
   "source": [
    "max_test_score = test_score\n",
    "max_test_score"
   ]
  },
  {
   "cell_type": "code",
   "execution_count": null,
   "metadata": {
    "collapsed": false
   },
   "outputs": [],
   "source": [
    "# mean - biz feature extraction\n",
    "X_train, X_test, y_train, y_test = train_test_split(biz_features_mean, inputs.labels, test_size=0.2, random_state=42)\n",
    "mean_score = []\n",
    "mean_test_score = []\n",
    "for i in range(9):\n",
    "    ABC = AdaBoostClassifier()\n",
    "    ABC.fit(X_train, y_train[:, i])\n",
    "    mean_score.append(cross_val_score(ABC, X_train, y_train[:, i]).mean())\n",
    "    mean_test_score.append(ABC.score(X_test, y_test[:, i]))\n",
    "print mean_score\n",
    "print mean_test_score"
   ]
  },
  {
   "cell_type": "code",
   "execution_count": null,
   "metadata": {
    "collapsed": false
   },
   "outputs": [],
   "source": [
    "np.subtract(max_score,mean_score)"
   ]
  },
  {
   "cell_type": "code",
   "execution_count": null,
   "metadata": {
    "collapsed": false
   },
   "outputs": [],
   "source": [
    "np.subtract(max_test_score,mean_test_score)"
   ]
  },
  {
   "cell_type": "code",
   "execution_count": null,
   "metadata": {
    "collapsed": true
   },
   "outputs": [],
   "source": []
  }
 ],
 "metadata": {
  "kernelspec": {
   "display_name": "Python 2",
   "language": "python",
   "name": "python2"
  },
  "language_info": {
   "codemirror_mode": {
    "name": "ipython",
    "version": 2
   },
   "file_extension": ".py",
   "mimetype": "text/x-python",
   "name": "python",
   "nbconvert_exporter": "python",
   "pygments_lexer": "ipython2",
   "version": "2.7.12"
  }
 },
 "nbformat": 4,
 "nbformat_minor": 2
}
