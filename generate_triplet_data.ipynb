{
 "cells": [
  {
   "cell_type": "code",
   "execution_count": null,
   "metadata": {
    "collapsed": true
   },
   "outputs": [],
   "source": [
    "import numpy as np\n",
    "import os\n",
    "import sys\n",
    "import cv2\n",
    "import shutil"
   ]
  },
  {
   "cell_type": "code",
   "execution_count": null,
   "metadata": {
    "collapsed": true
   },
   "outputs": [],
   "source": [
    "class Image_util:\n",
    "    def __init__(self, data_dir, biz_label_file_name, photo_biz_file_name):\n",
    "        self.batch_index = 0\n",
    "        image_paths = [os.path.join(data_dir,i) for i in os.listdir(data_dir) if i.endswith('.jpg') and not i.startswith(\"._\")]\n",
    "        self.images = []\n",
    "        self.labels = []\n",
    "        one_hot = self.read_csv_one_hot(biz_label_file_name)\n",
    "        photo_biz = self.photo_to_biz_id(photo_biz_file_name)\n",
    "        \n",
    "        for path in image_paths[:10]:\n",
    "            img = cv2.imread(path)\n",
    "            if img == None:\n",
    "                continue\n",
    "            photo_id = os.path.basename(path).split(\".\")[0]\n",
    "            self.labels.append(one_hot[photo_biz[photo_id]])\n",
    "            img = cv2.resize(img,(299,299),interpolation = cv2.INTER_AREA)\n",
    "            self.images.append(img)\n",
    "        self.labels = np.asarray(self.labels)\n",
    "        self.images = np.asarray(self.images)\n",
    "        print(self.labels.shape)\n",
    "        \n",
    "    def next_batch(self, batch_size):\n",
    "        if batch_size + self.batch_index < self.images.shape[0]:\n",
    "            imgs = self.images[self.batch_index:batch_size + self.batch_index,:,:,:]\n",
    "            labels = self.labels[self.batch_index:batch_size + self.batch_index,:,:,:]\n",
    "            return imgs, labels\n",
    "        else:\n",
    "            end_len = self.images.shape[0]-self.batch_index\n",
    "            start_len = batch_size - (self.images.shape[0] - end_len)\n",
    "            imgs = np.concatenate((self.images[-end_len:,:,:,:],self.images[0:start_len,:,:,:]))\n",
    "            labels = np.concatenate((self.labels[-end_len:,:,:,:],self.labels[0:start_len,:,:,:]))\n",
    "            return imgs, labels\n",
    "        \n",
    "    def read_csv_one_hot(self, file_name):\n",
    "        with open(file_name,\"r\") as f:\n",
    "            lines = f.readlines()[1:]\n",
    "        biz_id_to_label = {}\n",
    "        for line in lines:\n",
    "            try:\n",
    "                biz_id_to_label[line.split(\",\")[0]] = np.zeros(9)\n",
    "                for label in line.split(\",\")[1].rstrip().split(' '):\n",
    "                    biz_id_to_label[line.split(\",\")[0]][int(label)]=1\n",
    "            except:\n",
    "                if not line.split(\",\")[1].rstrip():\n",
    "                    continue\n",
    "        return biz_id_to_label\n",
    "    \n",
    "    def photo_to_biz_id(self, file_name):\n",
    "        with open(file_name,\"r\") as f:\n",
    "            lines = f.readlines()[1:]\n",
    "        photo_to_biz = {}\n",
    "        for line in lines:\n",
    "            photo_to_biz[line.split(\",\")[0]] = line.split(\",\")[1].rstrip() \n",
    "        return photo_to_biz"
   ]
  },
  {
   "cell_type": "code",
   "execution_count": null,
   "metadata": {
    "collapsed": false
   },
   "outputs": [],
   "source": [
    "img_util = image_util('/home/rendaxuan/Documents/workspace/4032/train_photos', '/home/rendaxuan/Documents/workspace/4032/train.csv', '/home/rendaxuan/Documents/workspace/4032/train_photo_to_biz_ids.csv')"
   ]
  },
  {
   "cell_type": "code",
   "execution_count": null,
   "metadata": {
    "collapsed": true
   },
   "outputs": [],
   "source": [
    "photo_id_dict = img_util.photo_to_biz_id('/home/rendaxuan/Documents/workspace/4032/train_photo_to_biz_ids.csv')"
   ]
  },
  {
   "cell_type": "code",
   "execution_count": null,
   "metadata": {
    "collapsed": true
   },
   "outputs": [],
   "source": [
    "biz_photo_dict = img_util.read_csv_one_hot('/home/rendaxuan/Documents/workspace/4032/train.csv')"
   ]
  },
  {
   "cell_type": "code",
   "execution_count": null,
   "metadata": {
    "collapsed": false
   },
   "outputs": [],
   "source": [
    "print(str(biz_photo_dict[photo_id_dict['160233']]))"
   ]
  },
  {
   "cell_type": "code",
   "execution_count": null,
   "metadata": {
    "collapsed": false
   },
   "outputs": [],
   "source": [
    "images = os.listdir('./train_photos')\n",
    "print(len(images))"
   ]
  },
  {
   "cell_type": "code",
   "execution_count": null,
   "metadata": {
    "collapsed": false
   },
   "outputs": [],
   "source": [
    "images = [i for i in images if not i.startswith('._')]"
   ]
  },
  {
   "cell_type": "code",
   "execution_count": null,
   "metadata": {
    "collapsed": false
   },
   "outputs": [],
   "source": [
    "print(len(images))"
   ]
  },
  {
   "cell_type": "code",
   "execution_count": null,
   "metadata": {
    "collapsed": false
   },
   "outputs": [],
   "source": [
    "images_labels = {}\n",
    "for i in images:\n",
    "    image_name = i.split('.')[0]\n",
    "    id_image = str(biz_photo_dict[photo_id_dict[image_name]])\n",
    "    if id_image in images_labels:\n",
    "        images_labels[id_image].append(image_name)\n",
    "        continue\n",
    "    else:\n",
    "        images_labels[id_image] = []\n",
    "        images_labels[id_image].append(image_name)"
   ]
  },
  {
   "cell_type": "code",
   "execution_count": null,
   "metadata": {
    "collapsed": false
   },
   "outputs": [],
   "source": [
    "len(images_labels)"
   ]
  },
  {
   "cell_type": "code",
   "execution_count": null,
   "metadata": {
    "collapsed": false
   },
   "outputs": [],
   "source": [
    "for key in images_labels:\n",
    "    os.mkdir(os.path.join('./class_images',key))\n",
    "    for img in images_labels[key]:\n",
    "        shutil.copy('./train_photos/'+img+\".jpg\",os.path.join('./class_images',key))"
   ]
  },
  {
   "cell_type": "code",
   "execution_count": null,
   "metadata": {
    "collapsed": true
   },
   "outputs": [],
   "source": []
  }
 ],
 "metadata": {
  "kernelspec": {
   "display_name": "Python 2",
   "language": "python",
   "name": "python2"
  },
  "language_info": {
   "codemirror_mode": {
    "name": "ipython",
    "version": 2
   },
   "file_extension": ".py",
   "mimetype": "text/x-python",
   "name": "python",
   "nbconvert_exporter": "python",
   "pygments_lexer": "ipython2",
   "version": "2.7.12"
  }
 },
 "nbformat": 4,
 "nbformat_minor": 1
}
