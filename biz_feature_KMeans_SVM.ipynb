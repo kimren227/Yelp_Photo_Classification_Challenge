{
 "cells": [
  {
   "cell_type": "code",
   "execution_count": null,
   "metadata": {
    "collapsed": true
   },
   "outputs": [],
   "source": [
    "import tensorflow as tf\n",
    "import numpy as np\n",
    "from sklearn.svm import LinearSVC\n",
    "from sklearn.model_selection import cross_val_score\n",
    "from sklearn.utils import shuffle\n",
    "from sklearn.metrics import f1_score\n",
    "from sklearn.cluster import MiniBatchKMeans\n",
    "from sklearn.multiclass import OneVsRestClassifier\n",
    "from sklearn.svm import SVC"
   ]
  },
  {
   "cell_type": "code",
   "execution_count": null,
   "metadata": {
    "collapsed": true
   },
   "outputs": [],
   "source": [
    "def get_data(features_set, labels_set):\n",
    "    group_element_num = 100\n",
    "    \n",
    "    label_to_features = {}\n",
    "    label_to_indexes = {}\n",
    "    for index, label in enumerate(labels_set):\n",
    "        label = tuple(label)\n",
    "        if label not in label_to_features:\n",
    "            label_to_features[label] = [features_set[index]]\n",
    "            label_to_indexes[label] = [index]\n",
    "        else:\n",
    "            label_to_features[label].append(features_set[index])\n",
    "            label_to_indexes[label].append(index)\n",
    "\n",
    "    labels = []\n",
    "    img_features = []\n",
    "    indexes = []\n",
    "    for l in label_to_features.keys():\n",
    "        if len(label_to_features[l]) % group_element_num == 0:\n",
    "            split = len(label_to_features[l])/group_element_num\n",
    "        else:\n",
    "            split = len(label_to_features[l])/group_element_num + 1\n",
    "        for i in range(split):\n",
    "            labels.append(l)\n",
    "            # if it's the last part\n",
    "            if i == split-1:\n",
    "                img_features.append(np.asarray(label_to_features[l][i*group_element_num:]))\n",
    "                indexes.append(np.asarray(label_to_indexes[l][i*group_element_num:]))\n",
    "            # split into parts, each with 'group_element_num' img featrues\n",
    "            else:\n",
    "                img_features.append(np.asarray(label_to_features[l][i*group_element_num:(i+1)*group_element_num]))\n",
    "                indexes.append(np.asarray(label_to_indexes[l][i*group_element_num:(i+1)*group_element_num]))\n",
    "\n",
    "    labels = np.asarray(labels)\n",
    "    img_features = np.asarray(img_features)\n",
    "    indexes = np.asarray(indexes)\n",
    "    \n",
    "    return shuffle(img_features, labels, indexes)"
   ]
  },
  {
   "cell_type": "code",
   "execution_count": null,
   "metadata": {
    "collapsed": true
   },
   "outputs": [],
   "source": [
    "def get_biz_features(img_features, labels, indexes, num_cluster, kmn):\n",
    "    biz_features = np.zeros([len(labels),(1024*num_cluster)])\n",
    "\n",
    "    for idx, features in enumerate(img_features):\n",
    "        feature_index = indexes[idx]\n",
    "        cluster_lable = np.array(kmn[feature_index])\n",
    "        \n",
    "        # for each biz group, mean feature vectore for those in the same cluster\n",
    "        for kn in range(num_cluster):\n",
    "            x = features[cluster_lable==kn]\n",
    "            # if feature doesn't belong to any cluster,\n",
    "            # which is impossible....\n",
    "            if(len(x) == 0):    \n",
    "                biz_features[idx,(1024*(kn)):(1024*(kn+1))] = np.zeros([1,1024])\n",
    "            else:\n",
    "                x = np.mean(x,axis=0)\n",
    "                x = x.reshape([1,1024])\n",
    "                biz_features[idx,(1024*(kn)):(1024*(kn+1))] = x\n",
    "\n",
    "    return biz_features"
   ]
  },
  {
   "cell_type": "code",
   "execution_count": null,
   "metadata": {
    "collapsed": true
   },
   "outputs": [],
   "source": [
    "def one_vs_rest_train_test(train_X, train_y, test_X, test_y):\n",
    "    classifier = OneVsRestClassifier(LinearSVC(loss='hinge'))\n",
    "    classifier.fit(train_X, train_y)\n",
    "    return classifier.score(test_X, test_y)"
   ]
  },
  {
   "cell_type": "code",
   "execution_count": null,
   "metadata": {
    "collapsed": true
   },
   "outputs": [],
   "source": [
    "# please change to your directory for the .npy files here\n",
    "input_features = np.load('./features_234000.npy')\n",
    "input_labels = np.load('./features_labels_234000.npy')"
   ]
  },
  {
   "cell_type": "code",
   "execution_count": null,
   "metadata": {},
   "outputs": [],
   "source": [
    "for num_cluster in [2,3,4,5]:\n",
    "    print \"num_cluster = \" + str(num_cluster)\n",
    "    # shuffle input data\n",
    "    input_features, input_labels = shuffle(input_features, input_labels)\n",
    "    kmn_holder = MiniBatchKMeans(n_clusters=num_cluster)\n",
    "    kmn = kmn_holder.fit_predict(input_features, input_labels)\n",
    "    kmn_train = kmn[:200000]\n",
    "    kmn_test = kmn[200000:-1000]\n",
    "    train_data = input_features[:200000]\n",
    "    train_label = input_labels[:200000]\n",
    "    test_data = input_features[200000:-1000]\n",
    "    test_label = input_labels[200000:-1000]\n",
    "    tr_img_features, tr_labels, tr_indexes = get_data(train_data, train_label)\n",
    "    tr_biz_features = get_biz_features(tr_img_features, tr_labels, tr_indexes, num_cluster, kmn_train)\n",
    "    ts_img_features, ts_labels, ts_indexes = get_data(test_data,test_label)\n",
    "    ts_biz_features = get_biz_features(ts_img_features, ts_labels, ts_indexes, num_cluster, kmn_test)\n",
    "    score = one_vs_rest_train_test(tr_biz_features, tr_labels, ts_biz_features, ts_labels)\n",
    "    print(\"score = \" + str(score))"
   ]
  }
 ],
 "metadata": {
  "kernelspec": {
   "display_name": "Python 2",
   "language": "python",
   "name": "python2"
  },
  "language_info": {
   "codemirror_mode": {
    "name": "ipython",
    "version": 2
   },
   "file_extension": ".py",
   "mimetype": "text/x-python",
   "name": "python",
   "nbconvert_exporter": "python",
   "pygments_lexer": "ipython2",
   "version": "2.7.13"
  }
 },
 "nbformat": 4,
 "nbformat_minor": 2
}
